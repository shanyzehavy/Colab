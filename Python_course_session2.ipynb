{
  "nbformat": 4,
  "nbformat_minor": 0,
  "metadata": {
    "colab": {
      "provenance": [],
      "authorship_tag": "ABX9TyO4TuTb0TxeIgdmxGhxHlET",
      "include_colab_link": true
    },
    "kernelspec": {
      "name": "python3",
      "display_name": "Python 3"
    },
    "language_info": {
      "name": "python"
    }
  },
  "cells": [
    {
      "cell_type": "markdown",
      "metadata": {
        "id": "view-in-github",
        "colab_type": "text"
      },
      "source": [
        "<a href=\"https://colab.research.google.com/github/shanyzehavy/Colab/blob/main/Python_course_session2.ipynb\" target=\"_parent\"><img src=\"https://colab.research.google.com/assets/colab-badge.svg\" alt=\"Open In Colab\"/></a>"
      ]
    },
    {
      "cell_type": "code",
      "execution_count": 30,
      "metadata": {
        "colab": {
          "base_uri": "https://localhost:8080/"
        },
        "id": "d01U8IUIXuSL",
        "outputId": "0edc4cf0-b99e-43b4-dbea-a46b0834bd69"
      },
      "outputs": [
        {
          "output_type": "stream",
          "name": "stdout",
          "text": [
            "root\n",
            "bin\n",
            "daemon\n",
            "adm\n",
            "lp\n",
            "sync\n",
            "shutdown\n",
            "halt\n",
            "mail\n",
            "news\n",
            "uucp\n",
            "operator\n",
            "games\n",
            "gopher\n",
            "ftp\n",
            "nobody\n",
            "nscd\n",
            "vcsa\n",
            "ntp\n",
            "pcap\n",
            "dbus\n",
            "avahi\n",
            "rpc\n",
            "mailnull\n",
            "smmsp\n",
            "apache\n",
            "sshd\n",
            "dovecot\n",
            "oprofile\n",
            "rpcuser\n",
            "nfsnobody\n",
            "xfs\n",
            "haldaemon\n",
            "avahi-autoipd\n",
            "gdm\n",
            "sabayon\n",
            "rachel\n"
          ]
        }
      ],
      "source": [
        "data   = []\n",
        "users_names  = []\n",
        "shells = []\n",
        "with open('_etc_passwd') as f:\n",
        "  f.readline()\n",
        "  f.readline()\n",
        "  for line in f:\n",
        "    line = line.strip()\n",
        "    #ignore notes or empty lines\n",
        "    if not line or line.startswith('#'):\n",
        "        continue\n",
        "    splitted_line = line.split(':')\n",
        "    data.append(splitted_line) \n",
        "\n",
        "#handle the names:\n",
        "for user in data:\n",
        "  users_names.append(user[0])\n",
        "  #print the list in a nicer way (without '[]') - the *array unoacks the list data structure for print\n",
        "\n",
        "print(*users_names, sep = '\\n')\n",
        "\n",
        "#handle the shells:\n",
        "shells = {} #dictionary - lookup by value and not key\n",
        "for user in data:\n",
        "  shell = user[7]\n",
        "  try:\n",
        "    #continue later\n",
        "\n"
      ]
    },
    {
      "cell_type": "code",
      "source": [],
      "metadata": {
        "id": "mpRFbZFVc5ud"
      },
      "execution_count": null,
      "outputs": []
    }
  ]
}